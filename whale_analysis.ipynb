{
 "cells": [
  {
   "cell_type": "markdown",
   "metadata": {},
   "source": [
    " #  A Whale off the Port(folio)\n",
    " ---\n",
    "\n",
    " In this assignment, you'll get to use what you've learned this week to evaluate the performance among various algorithmic, hedge, and mutual fund portfolios and compare them against the S&P TSX 60 Index."
   ]
  },
  {
   "cell_type": "code",
   "execution_count": 2,
   "metadata": {},
   "outputs": [],
   "source": [
    "# Initial imports\n",
    "import pandas as pd\n",
    "import numpy as np\n",
    "import datetime as dt\n",
    "from pathlib import Path\n",
    "\n",
    "%matplotlib inline\n",
    "\n",
    "#defining a Debug_Toggle to turn Debugging Printing on/off\n",
    "debugging_toggle = True"
   ]
  },
  {
   "cell_type": "markdown",
   "metadata": {},
   "source": [
    "# Data Cleaning\n",
    "\n",
    "In this section, you will need to read the CSV files into DataFrames and perform any necessary data cleaning steps. After cleaning, combine all DataFrames into a single DataFrame.\n",
    "\n",
    "Files:\n",
    "\n",
    "* `whale_returns.csv`: Contains returns of some famous \"whale\" investors' portfolios.\n",
    "\n",
    "* `algo_returns.csv`: Contains returns from the in-house trading algorithms from Harold's company.\n",
    "\n",
    "* `sp_tsx_history.csv`: Contains historical closing prices of the S&P TSX 60 Index."
   ]
  },
  {
   "cell_type": "markdown",
   "metadata": {},
   "source": [
    "## Whale Returns\n",
    "\n",
    "Read the Whale Portfolio daily returns and clean the data."
   ]
  },
  {
   "cell_type": "code",
   "execution_count": 3,
   "metadata": {},
   "outputs": [
    {
     "name": "stdout",
     "output_type": "stream",
     "text": [
      "=================Printing returns_whale \n",
      "          Date  SOROS FUND MANAGEMENT LLC  PAULSON & CO.INC.   \\\n",
      "0  2015-03-02                        NaN                 NaN   \n",
      "1  2015-03-03                  -0.001266           -0.004981   \n",
      "2  2015-03-04                   0.002230            0.003241   \n",
      "3  2015-03-05                   0.004016            0.004076   \n",
      "4  2015-03-06                  -0.007905           -0.003574   \n",
      "\n",
      "   TIGER GLOBAL MANAGEMENT LLC  BERKSHIRE HATHAWAY INC  \n",
      "0                          NaN                     NaN  \n",
      "1                    -0.000496               -0.006569  \n",
      "2                    -0.002534                0.004213  \n",
      "3                     0.002355                0.006726  \n",
      "4                    -0.008481               -0.013098  \n",
      "=================Printing returns_whale \n",
      "          Date    Algo 1  Algo 2\n",
      "0  2014-05-28  0.001745     NaN\n",
      "1  2014-05-29  0.003978     NaN\n",
      "2  2014-05-30  0.004464     NaN\n",
      "3  2014-06-02  0.005692     NaN\n",
      "4  2014-06-03  0.005292     NaN\n",
      "=================Printing returns_whale \n",
      "          Date       Close\n",
      "0  1-Oct-2012  $12,370.19\n",
      "1  2-Oct-2012  $12,391.23\n",
      "2  3-Oct-2012  $12,359.47\n",
      "3  4-Oct-2012  $12,447.68\n",
      "4  5-Oct-2012  $12,418.99\n",
      "=================Printing Shapes of Famous 'Whale' Investor's Portfolios:\t(1060, 5)\n",
      "=================Counting Null Values Famous 'Whale' Investor's Portfolios:\t4\n",
      "=================Printing Description of Famous 'Whale' Investor's Portfolios:\n",
      "       SOROS FUND MANAGEMENT LLC  PAULSON & CO.INC.   \\\n",
      "count                1059.000000         1059.000000   \n",
      "mean                    0.000179           -0.000203   \n",
      "std                     0.007842            0.006977   \n",
      "min                    -0.032711           -0.032099   \n",
      "25%                    -0.003594           -0.003961   \n",
      "50%                     0.000467            0.000000   \n",
      "75%                     0.004292            0.003567   \n",
      "max                     0.042977            0.029338   \n",
      "\n",
      "       TIGER GLOBAL MANAGEMENT LLC  BERKSHIRE HATHAWAY INC  \n",
      "count                  1059.000000             1059.000000  \n",
      "mean                     -0.000081                0.000501  \n",
      "std                       0.010824                0.012831  \n",
      "min                      -0.139820               -0.066505  \n",
      "25%                      -0.004746               -0.005515  \n",
      "50%                       0.000232                0.000617  \n",
      "75%                       0.005176                0.007516  \n",
      "max                       0.080705                0.061341  \n",
      "=================Printing Dtypes of Famous 'Whale' Investor's Portfolios:\n",
      "Date                            object\n",
      "SOROS FUND MANAGEMENT LLC      float64\n",
      "PAULSON & CO.INC.              float64\n",
      "TIGER GLOBAL MANAGEMENT LLC    float64\n",
      "BERKSHIRE HATHAWAY INC         float64\n",
      "dtype: object\n",
      "=================Printing Shapes of In-house Trading Algorithms from Company:\t(1241, 3)\n",
      "=================Counting Null Values In-house Trading Algorithms from Company:\t6\n",
      "=================Printing Description of In-house Trading Algorithms from Company:\n",
      "            Algo 1       Algo 2\n",
      "count  1241.000000  1235.000000\n",
      "mean      0.000667     0.000341\n",
      "std       0.007972     0.008466\n",
      "min      -0.030951    -0.036937\n",
      "25%      -0.003238    -0.003733\n",
      "50%       0.000135     0.000581\n",
      "75%       0.003978     0.005194\n",
      "max       0.098246     0.083734\n",
      "=================Printing Dtypes of In-house Trading Algorithms from Company:\n",
      "Date       object\n",
      "Algo 1    float64\n",
      "Algo 2    float64\n",
      "dtype: object\n",
      "=================Printing Shapes of S&P TSX 60 Index:\t(1818, 2)\n",
      "=================Counting Null Values S&P TSX 60 Index:\t0\n",
      "=================Printing Description of S&P TSX 60 Index:\n",
      "              Date       Close\n",
      "count         1818        1818\n",
      "unique        1818        1814\n",
      "top     1-Oct-2012  $16,074.30\n",
      "freq             1           2\n",
      "=================Printing Dtypes of S&P TSX 60 Index:\n",
      "Date     object\n",
      "Close    object\n",
      "dtype: object\n",
      "=================Printing Dtypes of Famous 'Whale' Investor's Portfolios:\n",
      "Date                           datetime64[ns]\n",
      "SOROS FUND MANAGEMENT LLC             float64\n",
      "PAULSON & CO.INC.                     float64\n",
      "TIGER GLOBAL MANAGEMENT LLC           float64\n",
      "BERKSHIRE HATHAWAY INC                float64\n",
      "dtype: object\n",
      "=================Printing Dtypes of In-house Trading Algorithms from Company:\n",
      "Date      datetime64[ns]\n",
      "Algo 1           float64\n",
      "Algo 2           float64\n",
      "dtype: object\n",
      "=================Printing Dtypes of S&P TSX 60 Index:\n",
      "Date     datetime64[ns]\n",
      "Close            object\n",
      "dtype: object\n"
     ]
    }
   ],
   "source": [
    "# Read all the CSV datasets to pandas DataFrames\n",
    "\n",
    "df_returns_whale = pd.read_csv('Resources/whale_returns.csv')\n",
    "df_returns_algo = pd.read_csv('Resources/algo_returns.csv')\n",
    "df_returns_tsx = pd.read_csv('Resources/sp_tsx_history.csv')\n",
    "if (debugging_toggle):\n",
    "    print(f\"=================Printing returns_whale \\n {df_returns_whale.head()}\")\n",
    "    print(f\"=================Printing returns_whale \\n {df_returns_algo.head()}\")\n",
    "    print(f\"=================Printing returns_whale \\n {df_returns_tsx.head()}\")\n",
    "    \n",
    "# get the shape of the different datasets\n",
    "\n",
    "dflist = [df_returns_whale, df_returns_algo, df_returns_tsx]\n",
    "str_dflist = [\"Famous 'Whale' Investor's Portfolios\", \"In-house Trading Algorithms from Company\", \"S&P TSX 60 Index\"]\n",
    "if (debugging_toggle):\n",
    "    for i, dfr in enumerate(dflist):\n",
    "        #This prints the Shape and the Describe() for the Dataframe\n",
    "        print(f\"=================Printing Shapes of {str_dflist[i]}:\\t{dflist[i].shape}\") \n",
    "        print(f\"=================Counting Null Values {str_dflist[i]}:\\t{dflist[i].isnull().sum().sum()}\")               \n",
    "        print(f\"=================Printing Description of {str_dflist[i]}:\\n{dflist[i].describe()}\")\n",
    "        print(f\"=================Printing Dtypes of {str_dflist[i]}:\\n{dflist[i].dtypes}\")\n",
    "\n",
    "#convert the dates to a DateTimeIndex\n",
    "    for i, dfr in enumerate(dflist):\n",
    "        dflist[i]['Date'] = pd.to_datetime(dflist[i]['Date'])\n",
    "\n",
    "#Check dtypes again to make sure that the DateTimeIndex was completed \n",
    "if (debugging_toggle):\n",
    "    for i, dfr in enumerate(dflist):\n",
    "        #This prints the Dtypes Dataframe\n",
    "        print(f\"=================Printing Dtypes of {str_dflist[i]}:\\n{dflist[i].dtypes}\")\n",
    "        "
   ]
  },
  {
   "cell_type": "code",
   "execution_count": null,
   "metadata": {},
   "outputs": [],
   "source": []
  },
  {
   "cell_type": "code",
   "execution_count": 4,
   "metadata": {},
   "outputs": [
    {
     "name": "stdout",
     "output_type": "stream",
     "text": [
      "Printing Shapes of Famous 'Whale' Investor's Portfolios:\t(1060, 5)\n"
     ]
    }
   ],
   "source": [
    "# Reading whale returns\n",
    "\n",
    "print(f\"Printing Shapes of {str_dflist[0]}:\\t{dflist[0].shape}\") "
   ]
  },
  {
   "cell_type": "code",
   "execution_count": 6,
   "metadata": {},
   "outputs": [
    {
     "name": "stdout",
     "output_type": "stream",
     "text": [
      "Counting Null Values Famous 'Whale' Investor's Portfolios:\t4\n"
     ]
    },
    {
     "data": {
      "text/plain": [
       "Date                           0\n",
       "SOROS FUND MANAGEMENT LLC      1\n",
       "PAULSON & CO.INC.              1\n",
       "TIGER GLOBAL MANAGEMENT LLC    1\n",
       "BERKSHIRE HATHAWAY INC         1\n",
       "dtype: int64"
      ]
     },
     "execution_count": 6,
     "metadata": {},
     "output_type": "execute_result"
    }
   ],
   "source": [
    "# Count nulls\n",
    "\n",
    "print(f\"Counting Null Values {str_dflist[0]}:\\t{dflist[0].isnull().sum().sum()}\")     \n",
    "\n",
    "\n",
    "#List of null values:\n",
    "\n",
    "dflist[0].isnull().sum()\n",
    "SOROS FUND MANAGEMENT LLC "
   ]
  },
  {
   "cell_type": "code",
   "execution_count": 52,
   "metadata": {},
   "outputs": [],
   "source": [
    "# Drop nulls\n"
   ]
  },
  {
   "cell_type": "markdown",
   "metadata": {},
   "source": [
    "## Algorithmic Daily Returns\n",
    "\n",
    "Read the algorithmic daily returns and clean the data."
   ]
  },
  {
   "cell_type": "code",
   "execution_count": 53,
   "metadata": {},
   "outputs": [
    {
     "name": "stdout",
     "output_type": "stream",
     "text": [
      "Printing Shapes of In-house Trading Algorithms from Company:\t(1241, 3)\n"
     ]
    }
   ],
   "source": [
    "# Reading algorithmic returns\n",
    "\n",
    "print(f\"Printing Shapes of {str_dflist[1]}:\\t{dflist[1].shape}\") "
   ]
  },
  {
   "cell_type": "code",
   "execution_count": 54,
   "metadata": {},
   "outputs": [
    {
     "name": "stdout",
     "output_type": "stream",
     "text": [
      "Counting Null Values In-house Trading Algorithms from Company:\t6\n"
     ]
    }
   ],
   "source": [
    "# Count nulls\n",
    "print(f\"Counting Null Values {str_dflist[1]}:\\t{dflist[1].isnull().sum().sum()}\")    "
   ]
  },
  {
   "cell_type": "code",
   "execution_count": null,
   "metadata": {},
   "outputs": [],
   "source": [
    "\n",
    "\n",
    "# Drop nulls\n"
   ]
  },
  {
   "cell_type": "markdown",
   "metadata": {},
   "source": [
    "## S&P TSX 60 Returns\n",
    "\n",
    "Read the S&P TSX 60 historic closing prices and create a new daily returns DataFrame from the data. "
   ]
  },
  {
   "cell_type": "code",
   "execution_count": 33,
   "metadata": {},
   "outputs": [
    {
     "name": "stdout",
     "output_type": "stream",
     "text": [
      "Printing Shapes of df_returns_tsx:\t(1818, 2)\n"
     ]
    }
   ],
   "source": [
    "# Reading S&P TSX 60 Closing Prices\n",
    "\n",
    "print(f\"Printing Shapes of {str_dflist[2]}:\\t{dflist[2].shape}\") "
   ]
  },
  {
   "cell_type": "code",
   "execution_count": 55,
   "metadata": {},
   "outputs": [
    {
     "name": "stdout",
     "output_type": "stream",
     "text": [
      "Printing Dtypes of S&P TSX 60 Index:\n",
      "Date     datetime64[ns]\n",
      "Close            object\n",
      "dtype: object\n"
     ]
    }
   ],
   "source": [
    "# Check Data Types\n",
    "print(f\"Printing Dtypes of {str_dflist[2]}:\\n{dflist[2].dtypes}\")"
   ]
  },
  {
   "cell_type": "code",
   "execution_count": null,
   "metadata": {},
   "outputs": [],
   "source": [
    "# Fix Data Types\n"
   ]
  },
  {
   "cell_type": "code",
   "execution_count": null,
   "metadata": {},
   "outputs": [],
   "source": [
    "# Calculate Daily Returns\n"
   ]
  },
  {
   "cell_type": "code",
   "execution_count": null,
   "metadata": {},
   "outputs": [],
   "source": [
    "# Drop nulls\n"
   ]
  },
  {
   "cell_type": "code",
   "execution_count": null,
   "metadata": {},
   "outputs": [],
   "source": [
    "# Rename `Close` Column to be specific to this portfolio.\n"
   ]
  },
  {
   "cell_type": "markdown",
   "metadata": {},
   "source": [
    "## Combine Whale, Algorithmic, and S&P TSX 60 Returns"
   ]
  },
  {
   "cell_type": "code",
   "execution_count": null,
   "metadata": {},
   "outputs": [],
   "source": [
    "# Join Whale Returns, Algorithmic Returns, and the S&P TSX 60 Returns into a single DataFrame with columns for each portfolio's returns.\n"
   ]
  },
  {
   "cell_type": "markdown",
   "metadata": {},
   "source": [
    "---"
   ]
  },
  {
   "cell_type": "markdown",
   "metadata": {},
   "source": [
    "# Conduct Quantitative Analysis\n",
    "\n",
    "In this section, you will calculate and visualize performance and risk metrics for the portfolios."
   ]
  },
  {
   "cell_type": "markdown",
   "metadata": {},
   "source": [
    "## Performance Anlysis\n",
    "\n",
    "#### Calculate and Plot the daily returns."
   ]
  },
  {
   "cell_type": "code",
   "execution_count": null,
   "metadata": {},
   "outputs": [],
   "source": [
    "# Plot daily returns of all portfolios\n"
   ]
  },
  {
   "cell_type": "markdown",
   "metadata": {},
   "source": [
    "#### Calculate and Plot cumulative returns."
   ]
  },
  {
   "cell_type": "code",
   "execution_count": null,
   "metadata": {},
   "outputs": [],
   "source": [
    "# Calculate cumulative returns of all portfolios\n",
    "\n",
    "# Plot cumulative returns\n"
   ]
  },
  {
   "cell_type": "markdown",
   "metadata": {},
   "source": [
    "---"
   ]
  },
  {
   "cell_type": "markdown",
   "metadata": {},
   "source": [
    "## Risk Analysis\n",
    "\n",
    "Determine the _risk_ of each portfolio:\n",
    "\n",
    "1. Create a box plot for each portfolio. \n",
    "2. Calculate the standard deviation for all portfolios.\n",
    "4. Determine which portfolios are riskier than the S&P TSX 60.\n",
    "5. Calculate the Annualized Standard Deviation."
   ]
  },
  {
   "cell_type": "markdown",
   "metadata": {},
   "source": [
    "### Create a box plot for each portfolio\n"
   ]
  },
  {
   "cell_type": "code",
   "execution_count": null,
   "metadata": {},
   "outputs": [],
   "source": [
    "# Box plot to visually show risk\n"
   ]
  },
  {
   "cell_type": "markdown",
   "metadata": {},
   "source": [
    "### Calculate Standard Deviations"
   ]
  },
  {
   "cell_type": "code",
   "execution_count": null,
   "metadata": {},
   "outputs": [],
   "source": [
    "# Calculate the daily standard deviations of all portfolios\n"
   ]
  },
  {
   "cell_type": "markdown",
   "metadata": {},
   "source": [
    "### Determine which portfolios are riskier than the S&P TSX 60"
   ]
  },
  {
   "cell_type": "code",
   "execution_count": null,
   "metadata": {},
   "outputs": [],
   "source": [
    "# Calculate  the daily standard deviation of S&P TSX 60\n",
    "\n",
    "# Determine which portfolios are riskier than the S&P TSX 60\n"
   ]
  },
  {
   "cell_type": "markdown",
   "metadata": {},
   "source": [
    "### Calculate the Annualized Standard Deviation"
   ]
  },
  {
   "cell_type": "code",
   "execution_count": null,
   "metadata": {},
   "outputs": [],
   "source": [
    "# Calculate the annualized standard deviation (252 trading days)\n"
   ]
  },
  {
   "cell_type": "markdown",
   "metadata": {},
   "source": [
    "---"
   ]
  },
  {
   "cell_type": "markdown",
   "metadata": {},
   "source": [
    "## Rolling Statistics\n",
    "\n",
    "Risk changes over time. Analyze the rolling statistics for Risk and Beta. \n",
    "\n",
    "1. Calculate and plot the rolling standard deviation for for all portfolios using a 21-day window.\n",
    "2. Calculate the correlation between each stock to determine which portfolios may mimick the S&P TSX 60.\n",
    "3. Choose one portfolio, then calculate and plot the 60-day rolling beta for it and the S&P TSX 60."
   ]
  },
  {
   "cell_type": "markdown",
   "metadata": {},
   "source": [
    "### Calculate and plot rolling `std` for all portfolios with 21-day window"
   ]
  },
  {
   "cell_type": "code",
   "execution_count": null,
   "metadata": {},
   "outputs": [],
   "source": [
    "# Calculate the rolling standard deviation for all portfolios using a 21-day window\n",
    "\n",
    "# Plot the rolling standard deviation\n"
   ]
  },
  {
   "cell_type": "markdown",
   "metadata": {},
   "source": [
    "### Calculate and plot the correlation"
   ]
  },
  {
   "cell_type": "code",
   "execution_count": null,
   "metadata": {},
   "outputs": [],
   "source": [
    "# Calculate the correlation\n",
    "\n",
    "# Display de correlation matrix\n"
   ]
  },
  {
   "cell_type": "markdown",
   "metadata": {},
   "source": [
    "### Calculate and Plot Beta for a chosen portfolio and the S&P 60 TSX"
   ]
  },
  {
   "cell_type": "code",
   "execution_count": null,
   "metadata": {},
   "outputs": [],
   "source": [
    "# Calculate covariance of a single portfolio\n",
    "\n",
    "# Calculate variance of S&P TSX\n",
    "\n",
    "# Computing beta\n",
    "\n",
    "# Plot beta trend\n"
   ]
  },
  {
   "cell_type": "markdown",
   "metadata": {},
   "source": [
    "## Rolling Statistics Challenge: Exponentially Weighted Average \n",
    "\n",
    "An alternative way to calculate a rolling window is to take the exponentially weighted moving average. This is like a moving window average, but it assigns greater importance to more recent observations. Try calculating the [`ewm`](https://pandas.pydata.org/pandas-docs/stable/reference/api/pandas.DataFrame.ewm.html) with a 21-day half life for each portfolio, using standard deviation (`std`) as the metric of interest."
   ]
  },
  {
   "cell_type": "code",
   "execution_count": null,
   "metadata": {},
   "outputs": [],
   "source": [
    "# Use `ewm` to calculate the rolling window\n"
   ]
  },
  {
   "cell_type": "markdown",
   "metadata": {},
   "source": [
    "---"
   ]
  },
  {
   "cell_type": "markdown",
   "metadata": {},
   "source": [
    "# Sharpe Ratios\n",
    "In reality, investment managers and thier institutional investors look at the ratio of return-to-risk, and not just returns alone. After all, if you could invest in one of two portfolios, and each offered the same 10% return, yet one offered lower risk, you'd take that one, right?\n",
    "\n",
    "### Using the daily returns, calculate and visualize the Sharpe ratios using a bar plot"
   ]
  },
  {
   "cell_type": "code",
   "execution_count": null,
   "metadata": {},
   "outputs": [],
   "source": [
    "# Annualized Sharpe Ratios\n"
   ]
  },
  {
   "cell_type": "code",
   "execution_count": null,
   "metadata": {},
   "outputs": [],
   "source": [
    "# Visualize the sharpe ratios as a bar plot\n"
   ]
  },
  {
   "cell_type": "markdown",
   "metadata": {},
   "source": [
    "### Determine whether the algorithmic strategies outperform both the market (S&P TSX 60) and the whales portfolios.\n",
    "\n",
    "Write your answer here!"
   ]
  },
  {
   "cell_type": "markdown",
   "metadata": {},
   "source": [
    "---"
   ]
  },
  {
   "cell_type": "markdown",
   "metadata": {},
   "source": [
    "# Create Custom Portfolio\n",
    "\n",
    "In this section, you will build your own portfolio of stocks, calculate the returns, and compare the results to the Whale Portfolios and the S&P TSX 60. \n",
    "\n",
    "1. Choose 3-5 custom stocks with at last 1 year's worth of historic prices and create a DataFrame of the closing prices and dates for each stock.\n",
    "2. Calculate the weighted returns for the portfolio assuming an equal number of shares for each stock.\n",
    "3. Join your portfolio returns to the DataFrame that contains all of the portfolio returns.\n",
    "4. Re-run the performance and risk analysis with your portfolio to see how it compares to the others.\n",
    "5. Include correlation analysis to determine which stocks (if any) are correlated."
   ]
  },
  {
   "cell_type": "markdown",
   "metadata": {},
   "source": [
    "## Choose 3-5 custom stocks with at last 1 year's worth of historic prices and create a DataFrame of the closing prices and dates for each stock."
   ]
  },
  {
   "cell_type": "code",
   "execution_count": null,
   "metadata": {},
   "outputs": [],
   "source": [
    "# Reading data from 1st stock\n"
   ]
  },
  {
   "cell_type": "code",
   "execution_count": null,
   "metadata": {},
   "outputs": [],
   "source": [
    "# Reading data from 2nd stock\n"
   ]
  },
  {
   "cell_type": "code",
   "execution_count": null,
   "metadata": {},
   "outputs": [],
   "source": [
    "# Reading data from 3rd stock\n"
   ]
  },
  {
   "cell_type": "code",
   "execution_count": null,
   "metadata": {},
   "outputs": [],
   "source": [
    "# Combine all stocks in a single DataFrame\n"
   ]
  },
  {
   "cell_type": "code",
   "execution_count": null,
   "metadata": {},
   "outputs": [],
   "source": [
    "# Reset Date index\n"
   ]
  },
  {
   "cell_type": "code",
   "execution_count": null,
   "metadata": {},
   "outputs": [],
   "source": [
    "# Reorganize portfolio data by having a column per symbol\n"
   ]
  },
  {
   "cell_type": "code",
   "execution_count": null,
   "metadata": {},
   "outputs": [],
   "source": [
    "# Calculate daily returns\n",
    "\n",
    "# Drop NAs\n",
    "\n",
    "# Display sample data\n"
   ]
  },
  {
   "cell_type": "markdown",
   "metadata": {},
   "source": [
    "## Calculate the weighted returns for the portfolio assuming an equal number of shares for each stock"
   ]
  },
  {
   "cell_type": "code",
   "execution_count": null,
   "metadata": {},
   "outputs": [],
   "source": [
    "# Set weights\n",
    "weights = [1/3, 1/3, 1/3]\n",
    "\n",
    "# Calculate portfolio return\n",
    "\n",
    "# Display sample data\n"
   ]
  },
  {
   "cell_type": "markdown",
   "metadata": {},
   "source": [
    "## Join your portfolio returns to the DataFrame that contains all of the portfolio returns"
   ]
  },
  {
   "cell_type": "code",
   "execution_count": null,
   "metadata": {},
   "outputs": [],
   "source": [
    "# Join your returns DataFrame to the original returns DataFrame\n"
   ]
  },
  {
   "cell_type": "code",
   "execution_count": null,
   "metadata": {},
   "outputs": [],
   "source": [
    "# Only compare dates where return data exists for all the stocks (drop NaNs)\n"
   ]
  },
  {
   "cell_type": "markdown",
   "metadata": {},
   "source": [
    "## Re-run the risk analysis with your portfolio to see how it compares to the others"
   ]
  },
  {
   "cell_type": "markdown",
   "metadata": {},
   "source": [
    "### Calculate the Annualized Standard Deviation"
   ]
  },
  {
   "cell_type": "code",
   "execution_count": null,
   "metadata": {},
   "outputs": [],
   "source": [
    "# Calculate the annualized `std`\n"
   ]
  },
  {
   "cell_type": "markdown",
   "metadata": {},
   "source": [
    "### Calculate and plot rolling `std` with 21-day window"
   ]
  },
  {
   "cell_type": "code",
   "execution_count": null,
   "metadata": {},
   "outputs": [],
   "source": [
    "# Calculate rolling standard deviation\n",
    "\n",
    "# Plot rolling standard deviation\n"
   ]
  },
  {
   "cell_type": "markdown",
   "metadata": {},
   "source": [
    "### Calculate and plot the correlation"
   ]
  },
  {
   "cell_type": "code",
   "execution_count": null,
   "metadata": {},
   "outputs": [],
   "source": [
    "# Calculate and plot the correlation\n"
   ]
  },
  {
   "cell_type": "markdown",
   "metadata": {},
   "source": [
    "### Calculate and Plot the 60-day Rolling Beta for Your Portfolio compared to the S&P 60 TSX"
   ]
  },
  {
   "cell_type": "code",
   "execution_count": null,
   "metadata": {},
   "outputs": [],
   "source": [
    "# Calculate and plot Beta\n"
   ]
  },
  {
   "cell_type": "markdown",
   "metadata": {},
   "source": [
    "### Using the daily returns, calculate and visualize the Sharpe ratios using a bar plot"
   ]
  },
  {
   "cell_type": "code",
   "execution_count": null,
   "metadata": {},
   "outputs": [],
   "source": [
    "# Calculate Annualized Sharpe Ratios\n"
   ]
  },
  {
   "cell_type": "code",
   "execution_count": null,
   "metadata": {},
   "outputs": [],
   "source": [
    "# Visualize the sharpe ratios as a bar plot\n"
   ]
  },
  {
   "cell_type": "markdown",
   "metadata": {},
   "source": [
    "### How does your portfolio do?\n",
    "\n",
    "Write your answer here!"
   ]
  },
  {
   "cell_type": "code",
   "execution_count": null,
   "metadata": {},
   "outputs": [],
   "source": []
  }
 ],
 "metadata": {
  "file_extension": ".py",
  "kernelspec": {
   "display_name": "Python 3 (ipykernel)",
   "language": "python",
   "name": "python3"
  },
  "language_info": {
   "codemirror_mode": {
    "name": "ipython",
    "version": 3
   },
   "file_extension": ".py",
   "mimetype": "text/x-python",
   "name": "python",
   "nbconvert_exporter": "python",
   "pygments_lexer": "ipython3",
   "version": "3.9.7"
  },
  "mimetype": "text/x-python",
  "name": "python",
  "npconvert_exporter": "python",
  "pygments_lexer": "ipython3",
  "version": 3
 },
 "nbformat": 4,
 "nbformat_minor": 4
}
